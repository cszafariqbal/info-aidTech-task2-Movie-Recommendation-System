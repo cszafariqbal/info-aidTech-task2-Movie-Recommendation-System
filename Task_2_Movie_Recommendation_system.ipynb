{
  "nbformat": 4,
  "nbformat_minor": 0,
  "metadata": {
    "colab": {
      "provenance": [],
      "gpuType": "T4",
      "authorship_tag": "ABX9TyMh8OAubE3pGHE+iMKPtvqG",
      "include_colab_link": true
    },
    "kernelspec": {
      "name": "python3",
      "display_name": "Python 3"
    },
    "language_info": {
      "name": "python"
    },
    "accelerator": "GPU"
  },
  "cells": [
    {
      "cell_type": "markdown",
      "metadata": {
        "id": "view-in-github",
        "colab_type": "text"
      },
      "source": [
        "<a href=\"https://colab.research.google.com/github/cszafariqbal/info-aidTech-task2-Movie-Recommendation-System/blob/main/Task_2_Movie_Recommendation_system.ipynb\" target=\"_parent\"><img src=\"https://colab.research.google.com/assets/colab-badge.svg\" alt=\"Open In Colab\"/></a>"
      ]
    },
    {
      "cell_type": "markdown",
      "source": [
        "#Movie Recomadation System:\n",
        "\n",
        "\n",
        "*   Create a machine learning model that can recommend movies to users based on their preferences.\n",
        "\n",
        "\n",
        "Collaborative filtering requires data on how users have rated movies in order to find similarities between users or items (movies in this case) and make personalized recommendations. Without the ratings data, it's not possible to implement collaborative filtering.\n",
        "To build a recommendation system based solely on movie information (content-based recommendation)\n",
        "\n",
        "\n"
      ],
      "metadata": {
        "id": "IKB-ndXo_CE_"
      }
    },
    {
      "cell_type": "markdown",
      "source": [
        "#Import The Required Library"
      ],
      "metadata": {
        "id": "NUJlH3H6_Y3L"
      }
    },
    {
      "cell_type": "code",
      "execution_count": 1,
      "metadata": {
        "colab": {
          "base_uri": "https://localhost:8080/"
        },
        "id": "Y7L9HVM48M1T",
        "outputId": "62553db3-3135-48bb-8dcd-06d9981e26d3"
      },
      "outputs": [
        {
          "output_type": "stream",
          "name": "stderr",
          "text": [
            "[nltk_data] Downloading package stopwords to /root/nltk_data...\n",
            "[nltk_data]   Unzipping corpora/stopwords.zip.\n"
          ]
        }
      ],
      "source": [
        "import numpy as np\n",
        "import pandas as pd\n",
        "from sklearn.feature_extraction.text import CountVectorizer, TfidfVectorizer\n",
        "from sklearn.metrics.pairwise import cosine_similarity\n",
        "import string\n",
        "import nltk\n",
        "nltk.download('stopwords')\n",
        "from nltk.corpus import stopwords"
      ]
    },
    {
      "cell_type": "markdown",
      "source": [
        "#Upload the Dataset into Google Colab"
      ],
      "metadata": {
        "id": "t3SRbQ-k_sgh"
      }
    },
    {
      "cell_type": "code",
      "source": [
        "from google.colab import files\n",
        "uploaded = files.upload()"
      ],
      "metadata": {
        "colab": {
          "base_uri": "https://localhost:8080/",
          "height": 73
        },
        "id": "N1Yb2prC_rJA",
        "outputId": "5fd9fe13-b7d8-4408-832d-b345abecc325"
      },
      "execution_count": 2,
      "outputs": [
        {
          "output_type": "display_data",
          "data": {
            "text/plain": [
              "<IPython.core.display.HTML object>"
            ],
            "text/html": [
              "\n",
              "     <input type=\"file\" id=\"files-839d62db-974a-41a5-8bf5-03770822d1f5\" name=\"files[]\" multiple disabled\n",
              "        style=\"border:none\" />\n",
              "     <output id=\"result-839d62db-974a-41a5-8bf5-03770822d1f5\">\n",
              "      Upload widget is only available when the cell has been executed in the\n",
              "      current browser session. Please rerun this cell to enable.\n",
              "      </output>\n",
              "      <script>// Copyright 2017 Google LLC\n",
              "//\n",
              "// Licensed under the Apache License, Version 2.0 (the \"License\");\n",
              "// you may not use this file except in compliance with the License.\n",
              "// You may obtain a copy of the License at\n",
              "//\n",
              "//      http://www.apache.org/licenses/LICENSE-2.0\n",
              "//\n",
              "// Unless required by applicable law or agreed to in writing, software\n",
              "// distributed under the License is distributed on an \"AS IS\" BASIS,\n",
              "// WITHOUT WARRANTIES OR CONDITIONS OF ANY KIND, either express or implied.\n",
              "// See the License for the specific language governing permissions and\n",
              "// limitations under the License.\n",
              "\n",
              "/**\n",
              " * @fileoverview Helpers for google.colab Python module.\n",
              " */\n",
              "(function(scope) {\n",
              "function span(text, styleAttributes = {}) {\n",
              "  const element = document.createElement('span');\n",
              "  element.textContent = text;\n",
              "  for (const key of Object.keys(styleAttributes)) {\n",
              "    element.style[key] = styleAttributes[key];\n",
              "  }\n",
              "  return element;\n",
              "}\n",
              "\n",
              "// Max number of bytes which will be uploaded at a time.\n",
              "const MAX_PAYLOAD_SIZE = 100 * 1024;\n",
              "\n",
              "function _uploadFiles(inputId, outputId) {\n",
              "  const steps = uploadFilesStep(inputId, outputId);\n",
              "  const outputElement = document.getElementById(outputId);\n",
              "  // Cache steps on the outputElement to make it available for the next call\n",
              "  // to uploadFilesContinue from Python.\n",
              "  outputElement.steps = steps;\n",
              "\n",
              "  return _uploadFilesContinue(outputId);\n",
              "}\n",
              "\n",
              "// This is roughly an async generator (not supported in the browser yet),\n",
              "// where there are multiple asynchronous steps and the Python side is going\n",
              "// to poll for completion of each step.\n",
              "// This uses a Promise to block the python side on completion of each step,\n",
              "// then passes the result of the previous step as the input to the next step.\n",
              "function _uploadFilesContinue(outputId) {\n",
              "  const outputElement = document.getElementById(outputId);\n",
              "  const steps = outputElement.steps;\n",
              "\n",
              "  const next = steps.next(outputElement.lastPromiseValue);\n",
              "  return Promise.resolve(next.value.promise).then((value) => {\n",
              "    // Cache the last promise value to make it available to the next\n",
              "    // step of the generator.\n",
              "    outputElement.lastPromiseValue = value;\n",
              "    return next.value.response;\n",
              "  });\n",
              "}\n",
              "\n",
              "/**\n",
              " * Generator function which is called between each async step of the upload\n",
              " * process.\n",
              " * @param {string} inputId Element ID of the input file picker element.\n",
              " * @param {string} outputId Element ID of the output display.\n",
              " * @return {!Iterable<!Object>} Iterable of next steps.\n",
              " */\n",
              "function* uploadFilesStep(inputId, outputId) {\n",
              "  const inputElement = document.getElementById(inputId);\n",
              "  inputElement.disabled = false;\n",
              "\n",
              "  const outputElement = document.getElementById(outputId);\n",
              "  outputElement.innerHTML = '';\n",
              "\n",
              "  const pickedPromise = new Promise((resolve) => {\n",
              "    inputElement.addEventListener('change', (e) => {\n",
              "      resolve(e.target.files);\n",
              "    });\n",
              "  });\n",
              "\n",
              "  const cancel = document.createElement('button');\n",
              "  inputElement.parentElement.appendChild(cancel);\n",
              "  cancel.textContent = 'Cancel upload';\n",
              "  const cancelPromise = new Promise((resolve) => {\n",
              "    cancel.onclick = () => {\n",
              "      resolve(null);\n",
              "    };\n",
              "  });\n",
              "\n",
              "  // Wait for the user to pick the files.\n",
              "  const files = yield {\n",
              "    promise: Promise.race([pickedPromise, cancelPromise]),\n",
              "    response: {\n",
              "      action: 'starting',\n",
              "    }\n",
              "  };\n",
              "\n",
              "  cancel.remove();\n",
              "\n",
              "  // Disable the input element since further picks are not allowed.\n",
              "  inputElement.disabled = true;\n",
              "\n",
              "  if (!files) {\n",
              "    return {\n",
              "      response: {\n",
              "        action: 'complete',\n",
              "      }\n",
              "    };\n",
              "  }\n",
              "\n",
              "  for (const file of files) {\n",
              "    const li = document.createElement('li');\n",
              "    li.append(span(file.name, {fontWeight: 'bold'}));\n",
              "    li.append(span(\n",
              "        `(${file.type || 'n/a'}) - ${file.size} bytes, ` +\n",
              "        `last modified: ${\n",
              "            file.lastModifiedDate ? file.lastModifiedDate.toLocaleDateString() :\n",
              "                                    'n/a'} - `));\n",
              "    const percent = span('0% done');\n",
              "    li.appendChild(percent);\n",
              "\n",
              "    outputElement.appendChild(li);\n",
              "\n",
              "    const fileDataPromise = new Promise((resolve) => {\n",
              "      const reader = new FileReader();\n",
              "      reader.onload = (e) => {\n",
              "        resolve(e.target.result);\n",
              "      };\n",
              "      reader.readAsArrayBuffer(file);\n",
              "    });\n",
              "    // Wait for the data to be ready.\n",
              "    let fileData = yield {\n",
              "      promise: fileDataPromise,\n",
              "      response: {\n",
              "        action: 'continue',\n",
              "      }\n",
              "    };\n",
              "\n",
              "    // Use a chunked sending to avoid message size limits. See b/62115660.\n",
              "    let position = 0;\n",
              "    do {\n",
              "      const length = Math.min(fileData.byteLength - position, MAX_PAYLOAD_SIZE);\n",
              "      const chunk = new Uint8Array(fileData, position, length);\n",
              "      position += length;\n",
              "\n",
              "      const base64 = btoa(String.fromCharCode.apply(null, chunk));\n",
              "      yield {\n",
              "        response: {\n",
              "          action: 'append',\n",
              "          file: file.name,\n",
              "          data: base64,\n",
              "        },\n",
              "      };\n",
              "\n",
              "      let percentDone = fileData.byteLength === 0 ?\n",
              "          100 :\n",
              "          Math.round((position / fileData.byteLength) * 100);\n",
              "      percent.textContent = `${percentDone}% done`;\n",
              "\n",
              "    } while (position < fileData.byteLength);\n",
              "  }\n",
              "\n",
              "  // All done.\n",
              "  yield {\n",
              "    response: {\n",
              "      action: 'complete',\n",
              "    }\n",
              "  };\n",
              "}\n",
              "\n",
              "scope.google = scope.google || {};\n",
              "scope.google.colab = scope.google.colab || {};\n",
              "scope.google.colab._files = {\n",
              "  _uploadFiles,\n",
              "  _uploadFilesContinue,\n",
              "};\n",
              "})(self);\n",
              "</script> "
            ]
          },
          "metadata": {}
        },
        {
          "output_type": "stream",
          "name": "stdout",
          "text": [
            "Saving movies.csv to movies.csv\n"
          ]
        }
      ]
    },
    {
      "cell_type": "markdown",
      "source": [
        "#Import the dataset Moview Overviews for using Pandas function read_csv()"
      ],
      "metadata": {
        "id": "MXK-4BTvDWed"
      }
    },
    {
      "cell_type": "code",
      "source": [
        "movies = pd.read_csv(\"movies.csv\")\n",
        "movies"
      ],
      "metadata": {
        "colab": {
          "base_uri": "https://localhost:8080/",
          "height": 423
        },
        "id": "YQOxTeB4BuHK",
        "outputId": "b5908622-5122-4757-9e69-cf85bdb3cffb"
      },
      "execution_count": 3,
      "outputs": [
        {
          "output_type": "execute_result",
          "data": {
            "text/plain": [
              "       movieId                                title  \\\n",
              "0            1                     Toy Story (1995)   \n",
              "1            2                       Jumanji (1995)   \n",
              "2            3              Grumpier Old Men (1995)   \n",
              "3            4             Waiting to Exhale (1995)   \n",
              "4            5   Father of the Bride Part II (1995)   \n",
              "...        ...                                  ...   \n",
              "10324   146684        Cosmic Scrat-tastrophe (2015)   \n",
              "10325   146878           Le Grand Restaurant (1966)   \n",
              "10326   148238       A Very Murray Christmas (2015)   \n",
              "10327   148626                 The Big Short (2015)   \n",
              "10328   149532  Marco Polo: One Hundred Eyes (2015)   \n",
              "\n",
              "                                            genres  \n",
              "0      Adventure|Animation|Children|Comedy|Fantasy  \n",
              "1                       Adventure|Children|Fantasy  \n",
              "2                                   Comedy|Romance  \n",
              "3                             Comedy|Drama|Romance  \n",
              "4                                           Comedy  \n",
              "...                                            ...  \n",
              "10324                    Animation|Children|Comedy  \n",
              "10325                                       Comedy  \n",
              "10326                                       Comedy  \n",
              "10327                                        Drama  \n",
              "10328                           (no genres listed)  \n",
              "\n",
              "[10329 rows x 3 columns]"
            ],
            "text/html": [
              "\n",
              "  <div id=\"df-37509615-684e-4b84-bed4-538c6b03add9\" class=\"colab-df-container\">\n",
              "    <div>\n",
              "<style scoped>\n",
              "    .dataframe tbody tr th:only-of-type {\n",
              "        vertical-align: middle;\n",
              "    }\n",
              "\n",
              "    .dataframe tbody tr th {\n",
              "        vertical-align: top;\n",
              "    }\n",
              "\n",
              "    .dataframe thead th {\n",
              "        text-align: right;\n",
              "    }\n",
              "</style>\n",
              "<table border=\"1\" class=\"dataframe\">\n",
              "  <thead>\n",
              "    <tr style=\"text-align: right;\">\n",
              "      <th></th>\n",
              "      <th>movieId</th>\n",
              "      <th>title</th>\n",
              "      <th>genres</th>\n",
              "    </tr>\n",
              "  </thead>\n",
              "  <tbody>\n",
              "    <tr>\n",
              "      <th>0</th>\n",
              "      <td>1</td>\n",
              "      <td>Toy Story (1995)</td>\n",
              "      <td>Adventure|Animation|Children|Comedy|Fantasy</td>\n",
              "    </tr>\n",
              "    <tr>\n",
              "      <th>1</th>\n",
              "      <td>2</td>\n",
              "      <td>Jumanji (1995)</td>\n",
              "      <td>Adventure|Children|Fantasy</td>\n",
              "    </tr>\n",
              "    <tr>\n",
              "      <th>2</th>\n",
              "      <td>3</td>\n",
              "      <td>Grumpier Old Men (1995)</td>\n",
              "      <td>Comedy|Romance</td>\n",
              "    </tr>\n",
              "    <tr>\n",
              "      <th>3</th>\n",
              "      <td>4</td>\n",
              "      <td>Waiting to Exhale (1995)</td>\n",
              "      <td>Comedy|Drama|Romance</td>\n",
              "    </tr>\n",
              "    <tr>\n",
              "      <th>4</th>\n",
              "      <td>5</td>\n",
              "      <td>Father of the Bride Part II (1995)</td>\n",
              "      <td>Comedy</td>\n",
              "    </tr>\n",
              "    <tr>\n",
              "      <th>...</th>\n",
              "      <td>...</td>\n",
              "      <td>...</td>\n",
              "      <td>...</td>\n",
              "    </tr>\n",
              "    <tr>\n",
              "      <th>10324</th>\n",
              "      <td>146684</td>\n",
              "      <td>Cosmic Scrat-tastrophe (2015)</td>\n",
              "      <td>Animation|Children|Comedy</td>\n",
              "    </tr>\n",
              "    <tr>\n",
              "      <th>10325</th>\n",
              "      <td>146878</td>\n",
              "      <td>Le Grand Restaurant (1966)</td>\n",
              "      <td>Comedy</td>\n",
              "    </tr>\n",
              "    <tr>\n",
              "      <th>10326</th>\n",
              "      <td>148238</td>\n",
              "      <td>A Very Murray Christmas (2015)</td>\n",
              "      <td>Comedy</td>\n",
              "    </tr>\n",
              "    <tr>\n",
              "      <th>10327</th>\n",
              "      <td>148626</td>\n",
              "      <td>The Big Short (2015)</td>\n",
              "      <td>Drama</td>\n",
              "    </tr>\n",
              "    <tr>\n",
              "      <th>10328</th>\n",
              "      <td>149532</td>\n",
              "      <td>Marco Polo: One Hundred Eyes (2015)</td>\n",
              "      <td>(no genres listed)</td>\n",
              "    </tr>\n",
              "  </tbody>\n",
              "</table>\n",
              "<p>10329 rows × 3 columns</p>\n",
              "</div>\n",
              "    <div class=\"colab-df-buttons\">\n",
              "\n",
              "  <div class=\"colab-df-container\">\n",
              "    <button class=\"colab-df-convert\" onclick=\"convertToInteractive('df-37509615-684e-4b84-bed4-538c6b03add9')\"\n",
              "            title=\"Convert this dataframe to an interactive table.\"\n",
              "            style=\"display:none;\">\n",
              "\n",
              "  <svg xmlns=\"http://www.w3.org/2000/svg\" height=\"24px\" viewBox=\"0 -960 960 960\">\n",
              "    <path d=\"M120-120v-720h720v720H120Zm60-500h600v-160H180v160Zm220 220h160v-160H400v160Zm0 220h160v-160H400v160ZM180-400h160v-160H180v160Zm440 0h160v-160H620v160ZM180-180h160v-160H180v160Zm440 0h160v-160H620v160Z\"/>\n",
              "  </svg>\n",
              "    </button>\n",
              "\n",
              "  <style>\n",
              "    .colab-df-container {\n",
              "      display:flex;\n",
              "      gap: 12px;\n",
              "    }\n",
              "\n",
              "    .colab-df-convert {\n",
              "      background-color: #E8F0FE;\n",
              "      border: none;\n",
              "      border-radius: 50%;\n",
              "      cursor: pointer;\n",
              "      display: none;\n",
              "      fill: #1967D2;\n",
              "      height: 32px;\n",
              "      padding: 0 0 0 0;\n",
              "      width: 32px;\n",
              "    }\n",
              "\n",
              "    .colab-df-convert:hover {\n",
              "      background-color: #E2EBFA;\n",
              "      box-shadow: 0px 1px 2px rgba(60, 64, 67, 0.3), 0px 1px 3px 1px rgba(60, 64, 67, 0.15);\n",
              "      fill: #174EA6;\n",
              "    }\n",
              "\n",
              "    .colab-df-buttons div {\n",
              "      margin-bottom: 4px;\n",
              "    }\n",
              "\n",
              "    [theme=dark] .colab-df-convert {\n",
              "      background-color: #3B4455;\n",
              "      fill: #D2E3FC;\n",
              "    }\n",
              "\n",
              "    [theme=dark] .colab-df-convert:hover {\n",
              "      background-color: #434B5C;\n",
              "      box-shadow: 0px 1px 3px 1px rgba(0, 0, 0, 0.15);\n",
              "      filter: drop-shadow(0px 1px 2px rgba(0, 0, 0, 0.3));\n",
              "      fill: #FFFFFF;\n",
              "    }\n",
              "  </style>\n",
              "\n",
              "    <script>\n",
              "      const buttonEl =\n",
              "        document.querySelector('#df-37509615-684e-4b84-bed4-538c6b03add9 button.colab-df-convert');\n",
              "      buttonEl.style.display =\n",
              "        google.colab.kernel.accessAllowed ? 'block' : 'none';\n",
              "\n",
              "      async function convertToInteractive(key) {\n",
              "        const element = document.querySelector('#df-37509615-684e-4b84-bed4-538c6b03add9');\n",
              "        const dataTable =\n",
              "          await google.colab.kernel.invokeFunction('convertToInteractive',\n",
              "                                                    [key], {});\n",
              "        if (!dataTable) return;\n",
              "\n",
              "        const docLinkHtml = 'Like what you see? Visit the ' +\n",
              "          '<a target=\"_blank\" href=https://colab.research.google.com/notebooks/data_table.ipynb>data table notebook</a>'\n",
              "          + ' to learn more about interactive tables.';\n",
              "        element.innerHTML = '';\n",
              "        dataTable['output_type'] = 'display_data';\n",
              "        await google.colab.output.renderOutput(dataTable, element);\n",
              "        const docLink = document.createElement('div');\n",
              "        docLink.innerHTML = docLinkHtml;\n",
              "        element.appendChild(docLink);\n",
              "      }\n",
              "    </script>\n",
              "  </div>\n",
              "\n",
              "\n",
              "<div id=\"df-1204f6f8-bd7a-44a5-9aff-d0510d615590\">\n",
              "  <button class=\"colab-df-quickchart\" onclick=\"quickchart('df-1204f6f8-bd7a-44a5-9aff-d0510d615590')\"\n",
              "            title=\"Suggest charts.\"\n",
              "            style=\"display:none;\">\n",
              "\n",
              "<svg xmlns=\"http://www.w3.org/2000/svg\" height=\"24px\"viewBox=\"0 0 24 24\"\n",
              "     width=\"24px\">\n",
              "    <g>\n",
              "        <path d=\"M19 3H5c-1.1 0-2 .9-2 2v14c0 1.1.9 2 2 2h14c1.1 0 2-.9 2-2V5c0-1.1-.9-2-2-2zM9 17H7v-7h2v7zm4 0h-2V7h2v10zm4 0h-2v-4h2v4z\"/>\n",
              "    </g>\n",
              "</svg>\n",
              "  </button>\n",
              "\n",
              "<style>\n",
              "  .colab-df-quickchart {\n",
              "      --bg-color: #E8F0FE;\n",
              "      --fill-color: #1967D2;\n",
              "      --hover-bg-color: #E2EBFA;\n",
              "      --hover-fill-color: #174EA6;\n",
              "      --disabled-fill-color: #AAA;\n",
              "      --disabled-bg-color: #DDD;\n",
              "  }\n",
              "\n",
              "  [theme=dark] .colab-df-quickchart {\n",
              "      --bg-color: #3B4455;\n",
              "      --fill-color: #D2E3FC;\n",
              "      --hover-bg-color: #434B5C;\n",
              "      --hover-fill-color: #FFFFFF;\n",
              "      --disabled-bg-color: #3B4455;\n",
              "      --disabled-fill-color: #666;\n",
              "  }\n",
              "\n",
              "  .colab-df-quickchart {\n",
              "    background-color: var(--bg-color);\n",
              "    border: none;\n",
              "    border-radius: 50%;\n",
              "    cursor: pointer;\n",
              "    display: none;\n",
              "    fill: var(--fill-color);\n",
              "    height: 32px;\n",
              "    padding: 0;\n",
              "    width: 32px;\n",
              "  }\n",
              "\n",
              "  .colab-df-quickchart:hover {\n",
              "    background-color: var(--hover-bg-color);\n",
              "    box-shadow: 0 1px 2px rgba(60, 64, 67, 0.3), 0 1px 3px 1px rgba(60, 64, 67, 0.15);\n",
              "    fill: var(--button-hover-fill-color);\n",
              "  }\n",
              "\n",
              "  .colab-df-quickchart-complete:disabled,\n",
              "  .colab-df-quickchart-complete:disabled:hover {\n",
              "    background-color: var(--disabled-bg-color);\n",
              "    fill: var(--disabled-fill-color);\n",
              "    box-shadow: none;\n",
              "  }\n",
              "\n",
              "  .colab-df-spinner {\n",
              "    border: 2px solid var(--fill-color);\n",
              "    border-color: transparent;\n",
              "    border-bottom-color: var(--fill-color);\n",
              "    animation:\n",
              "      spin 1s steps(1) infinite;\n",
              "  }\n",
              "\n",
              "  @keyframes spin {\n",
              "    0% {\n",
              "      border-color: transparent;\n",
              "      border-bottom-color: var(--fill-color);\n",
              "      border-left-color: var(--fill-color);\n",
              "    }\n",
              "    20% {\n",
              "      border-color: transparent;\n",
              "      border-left-color: var(--fill-color);\n",
              "      border-top-color: var(--fill-color);\n",
              "    }\n",
              "    30% {\n",
              "      border-color: transparent;\n",
              "      border-left-color: var(--fill-color);\n",
              "      border-top-color: var(--fill-color);\n",
              "      border-right-color: var(--fill-color);\n",
              "    }\n",
              "    40% {\n",
              "      border-color: transparent;\n",
              "      border-right-color: var(--fill-color);\n",
              "      border-top-color: var(--fill-color);\n",
              "    }\n",
              "    60% {\n",
              "      border-color: transparent;\n",
              "      border-right-color: var(--fill-color);\n",
              "    }\n",
              "    80% {\n",
              "      border-color: transparent;\n",
              "      border-right-color: var(--fill-color);\n",
              "      border-bottom-color: var(--fill-color);\n",
              "    }\n",
              "    90% {\n",
              "      border-color: transparent;\n",
              "      border-bottom-color: var(--fill-color);\n",
              "    }\n",
              "  }\n",
              "</style>\n",
              "\n",
              "  <script>\n",
              "    async function quickchart(key) {\n",
              "      const quickchartButtonEl =\n",
              "        document.querySelector('#' + key + ' button');\n",
              "      quickchartButtonEl.disabled = true;  // To prevent multiple clicks.\n",
              "      quickchartButtonEl.classList.add('colab-df-spinner');\n",
              "      try {\n",
              "        const charts = await google.colab.kernel.invokeFunction(\n",
              "            'suggestCharts', [key], {});\n",
              "      } catch (error) {\n",
              "        console.error('Error during call to suggestCharts:', error);\n",
              "      }\n",
              "      quickchartButtonEl.classList.remove('colab-df-spinner');\n",
              "      quickchartButtonEl.classList.add('colab-df-quickchart-complete');\n",
              "    }\n",
              "    (() => {\n",
              "      let quickchartButtonEl =\n",
              "        document.querySelector('#df-1204f6f8-bd7a-44a5-9aff-d0510d615590 button');\n",
              "      quickchartButtonEl.style.display =\n",
              "        google.colab.kernel.accessAllowed ? 'block' : 'none';\n",
              "    })();\n",
              "  </script>\n",
              "</div>\n",
              "    </div>\n",
              "  </div>\n"
            ]
          },
          "metadata": {},
          "execution_count": 3
        }
      ]
    },
    {
      "cell_type": "markdown",
      "source": [
        "#Exploratory Data Analysis (EDA)\n",
        "\n",
        "\n"
      ],
      "metadata": {
        "id": "2tBHpm-tD-yI"
      }
    },
    {
      "cell_type": "code",
      "source": [
        "movies.info()"
      ],
      "metadata": {
        "colab": {
          "base_uri": "https://localhost:8080/"
        },
        "id": "YqJ6z6kNCBMR",
        "outputId": "e1361e0a-27aa-4346-a811-72ee669ca2fd"
      },
      "execution_count": 4,
      "outputs": [
        {
          "output_type": "stream",
          "name": "stdout",
          "text": [
            "<class 'pandas.core.frame.DataFrame'>\n",
            "RangeIndex: 10329 entries, 0 to 10328\n",
            "Data columns (total 3 columns):\n",
            " #   Column   Non-Null Count  Dtype \n",
            "---  ------   --------------  ----- \n",
            " 0   movieId  10329 non-null  int64 \n",
            " 1   title    10329 non-null  object\n",
            " 2   genres   10329 non-null  object\n",
            "dtypes: int64(1), object(2)\n",
            "memory usage: 242.2+ KB\n"
          ]
        }
      ]
    },
    {
      "cell_type": "code",
      "source": [
        "movies.isna().sum()"
      ],
      "metadata": {
        "colab": {
          "base_uri": "https://localhost:8080/"
        },
        "id": "PJqzN5SICKpm",
        "outputId": "c27b9914-de25-4205-da34-fd6ac581dbd9"
      },
      "execution_count": 5,
      "outputs": [
        {
          "output_type": "execute_result",
          "data": {
            "text/plain": [
              "movieId    0\n",
              "title      0\n",
              "genres     0\n",
              "dtype: int64"
            ]
          },
          "metadata": {},
          "execution_count": 5
        }
      ]
    },
    {
      "cell_type": "code",
      "source": [
        "movies.duplicated().sum()"
      ],
      "metadata": {
        "colab": {
          "base_uri": "https://localhost:8080/"
        },
        "id": "eZaG9VivSsno",
        "outputId": "d56f1dc5-59fa-4a5d-e566-18929017cf27"
      },
      "execution_count": 6,
      "outputs": [
        {
          "output_type": "execute_result",
          "data": {
            "text/plain": [
              "0"
            ]
          },
          "metadata": {},
          "execution_count": 6
        }
      ]
    },
    {
      "cell_type": "code",
      "source": [
        "movies = movies.drop(columns=['movieId'], axis=1)\n",
        "movies.head()"
      ],
      "metadata": {
        "colab": {
          "base_uri": "https://localhost:8080/",
          "height": 206
        },
        "id": "87S64gqFCibE",
        "outputId": "5c23b914-e923-4b45-bc9d-2de6d96ee78a"
      },
      "execution_count": 7,
      "outputs": [
        {
          "output_type": "execute_result",
          "data": {
            "text/plain": [
              "                                title  \\\n",
              "0                    Toy Story (1995)   \n",
              "1                      Jumanji (1995)   \n",
              "2             Grumpier Old Men (1995)   \n",
              "3            Waiting to Exhale (1995)   \n",
              "4  Father of the Bride Part II (1995)   \n",
              "\n",
              "                                        genres  \n",
              "0  Adventure|Animation|Children|Comedy|Fantasy  \n",
              "1                   Adventure|Children|Fantasy  \n",
              "2                               Comedy|Romance  \n",
              "3                         Comedy|Drama|Romance  \n",
              "4                                       Comedy  "
            ],
            "text/html": [
              "\n",
              "  <div id=\"df-dfaec72e-0b81-4d0f-a658-ba9aedf163ba\" class=\"colab-df-container\">\n",
              "    <div>\n",
              "<style scoped>\n",
              "    .dataframe tbody tr th:only-of-type {\n",
              "        vertical-align: middle;\n",
              "    }\n",
              "\n",
              "    .dataframe tbody tr th {\n",
              "        vertical-align: top;\n",
              "    }\n",
              "\n",
              "    .dataframe thead th {\n",
              "        text-align: right;\n",
              "    }\n",
              "</style>\n",
              "<table border=\"1\" class=\"dataframe\">\n",
              "  <thead>\n",
              "    <tr style=\"text-align: right;\">\n",
              "      <th></th>\n",
              "      <th>title</th>\n",
              "      <th>genres</th>\n",
              "    </tr>\n",
              "  </thead>\n",
              "  <tbody>\n",
              "    <tr>\n",
              "      <th>0</th>\n",
              "      <td>Toy Story (1995)</td>\n",
              "      <td>Adventure|Animation|Children|Comedy|Fantasy</td>\n",
              "    </tr>\n",
              "    <tr>\n",
              "      <th>1</th>\n",
              "      <td>Jumanji (1995)</td>\n",
              "      <td>Adventure|Children|Fantasy</td>\n",
              "    </tr>\n",
              "    <tr>\n",
              "      <th>2</th>\n",
              "      <td>Grumpier Old Men (1995)</td>\n",
              "      <td>Comedy|Romance</td>\n",
              "    </tr>\n",
              "    <tr>\n",
              "      <th>3</th>\n",
              "      <td>Waiting to Exhale (1995)</td>\n",
              "      <td>Comedy|Drama|Romance</td>\n",
              "    </tr>\n",
              "    <tr>\n",
              "      <th>4</th>\n",
              "      <td>Father of the Bride Part II (1995)</td>\n",
              "      <td>Comedy</td>\n",
              "    </tr>\n",
              "  </tbody>\n",
              "</table>\n",
              "</div>\n",
              "    <div class=\"colab-df-buttons\">\n",
              "\n",
              "  <div class=\"colab-df-container\">\n",
              "    <button class=\"colab-df-convert\" onclick=\"convertToInteractive('df-dfaec72e-0b81-4d0f-a658-ba9aedf163ba')\"\n",
              "            title=\"Convert this dataframe to an interactive table.\"\n",
              "            style=\"display:none;\">\n",
              "\n",
              "  <svg xmlns=\"http://www.w3.org/2000/svg\" height=\"24px\" viewBox=\"0 -960 960 960\">\n",
              "    <path d=\"M120-120v-720h720v720H120Zm60-500h600v-160H180v160Zm220 220h160v-160H400v160Zm0 220h160v-160H400v160ZM180-400h160v-160H180v160Zm440 0h160v-160H620v160ZM180-180h160v-160H180v160Zm440 0h160v-160H620v160Z\"/>\n",
              "  </svg>\n",
              "    </button>\n",
              "\n",
              "  <style>\n",
              "    .colab-df-container {\n",
              "      display:flex;\n",
              "      gap: 12px;\n",
              "    }\n",
              "\n",
              "    .colab-df-convert {\n",
              "      background-color: #E8F0FE;\n",
              "      border: none;\n",
              "      border-radius: 50%;\n",
              "      cursor: pointer;\n",
              "      display: none;\n",
              "      fill: #1967D2;\n",
              "      height: 32px;\n",
              "      padding: 0 0 0 0;\n",
              "      width: 32px;\n",
              "    }\n",
              "\n",
              "    .colab-df-convert:hover {\n",
              "      background-color: #E2EBFA;\n",
              "      box-shadow: 0px 1px 2px rgba(60, 64, 67, 0.3), 0px 1px 3px 1px rgba(60, 64, 67, 0.15);\n",
              "      fill: #174EA6;\n",
              "    }\n",
              "\n",
              "    .colab-df-buttons div {\n",
              "      margin-bottom: 4px;\n",
              "    }\n",
              "\n",
              "    [theme=dark] .colab-df-convert {\n",
              "      background-color: #3B4455;\n",
              "      fill: #D2E3FC;\n",
              "    }\n",
              "\n",
              "    [theme=dark] .colab-df-convert:hover {\n",
              "      background-color: #434B5C;\n",
              "      box-shadow: 0px 1px 3px 1px rgba(0, 0, 0, 0.15);\n",
              "      filter: drop-shadow(0px 1px 2px rgba(0, 0, 0, 0.3));\n",
              "      fill: #FFFFFF;\n",
              "    }\n",
              "  </style>\n",
              "\n",
              "    <script>\n",
              "      const buttonEl =\n",
              "        document.querySelector('#df-dfaec72e-0b81-4d0f-a658-ba9aedf163ba button.colab-df-convert');\n",
              "      buttonEl.style.display =\n",
              "        google.colab.kernel.accessAllowed ? 'block' : 'none';\n",
              "\n",
              "      async function convertToInteractive(key) {\n",
              "        const element = document.querySelector('#df-dfaec72e-0b81-4d0f-a658-ba9aedf163ba');\n",
              "        const dataTable =\n",
              "          await google.colab.kernel.invokeFunction('convertToInteractive',\n",
              "                                                    [key], {});\n",
              "        if (!dataTable) return;\n",
              "\n",
              "        const docLinkHtml = 'Like what you see? Visit the ' +\n",
              "          '<a target=\"_blank\" href=https://colab.research.google.com/notebooks/data_table.ipynb>data table notebook</a>'\n",
              "          + ' to learn more about interactive tables.';\n",
              "        element.innerHTML = '';\n",
              "        dataTable['output_type'] = 'display_data';\n",
              "        await google.colab.output.renderOutput(dataTable, element);\n",
              "        const docLink = document.createElement('div');\n",
              "        docLink.innerHTML = docLinkHtml;\n",
              "        element.appendChild(docLink);\n",
              "      }\n",
              "    </script>\n",
              "  </div>\n",
              "\n",
              "\n",
              "<div id=\"df-129cd97c-2c24-44a6-a421-020801105d3e\">\n",
              "  <button class=\"colab-df-quickchart\" onclick=\"quickchart('df-129cd97c-2c24-44a6-a421-020801105d3e')\"\n",
              "            title=\"Suggest charts.\"\n",
              "            style=\"display:none;\">\n",
              "\n",
              "<svg xmlns=\"http://www.w3.org/2000/svg\" height=\"24px\"viewBox=\"0 0 24 24\"\n",
              "     width=\"24px\">\n",
              "    <g>\n",
              "        <path d=\"M19 3H5c-1.1 0-2 .9-2 2v14c0 1.1.9 2 2 2h14c1.1 0 2-.9 2-2V5c0-1.1-.9-2-2-2zM9 17H7v-7h2v7zm4 0h-2V7h2v10zm4 0h-2v-4h2v4z\"/>\n",
              "    </g>\n",
              "</svg>\n",
              "  </button>\n",
              "\n",
              "<style>\n",
              "  .colab-df-quickchart {\n",
              "      --bg-color: #E8F0FE;\n",
              "      --fill-color: #1967D2;\n",
              "      --hover-bg-color: #E2EBFA;\n",
              "      --hover-fill-color: #174EA6;\n",
              "      --disabled-fill-color: #AAA;\n",
              "      --disabled-bg-color: #DDD;\n",
              "  }\n",
              "\n",
              "  [theme=dark] .colab-df-quickchart {\n",
              "      --bg-color: #3B4455;\n",
              "      --fill-color: #D2E3FC;\n",
              "      --hover-bg-color: #434B5C;\n",
              "      --hover-fill-color: #FFFFFF;\n",
              "      --disabled-bg-color: #3B4455;\n",
              "      --disabled-fill-color: #666;\n",
              "  }\n",
              "\n",
              "  .colab-df-quickchart {\n",
              "    background-color: var(--bg-color);\n",
              "    border: none;\n",
              "    border-radius: 50%;\n",
              "    cursor: pointer;\n",
              "    display: none;\n",
              "    fill: var(--fill-color);\n",
              "    height: 32px;\n",
              "    padding: 0;\n",
              "    width: 32px;\n",
              "  }\n",
              "\n",
              "  .colab-df-quickchart:hover {\n",
              "    background-color: var(--hover-bg-color);\n",
              "    box-shadow: 0 1px 2px rgba(60, 64, 67, 0.3), 0 1px 3px 1px rgba(60, 64, 67, 0.15);\n",
              "    fill: var(--button-hover-fill-color);\n",
              "  }\n",
              "\n",
              "  .colab-df-quickchart-complete:disabled,\n",
              "  .colab-df-quickchart-complete:disabled:hover {\n",
              "    background-color: var(--disabled-bg-color);\n",
              "    fill: var(--disabled-fill-color);\n",
              "    box-shadow: none;\n",
              "  }\n",
              "\n",
              "  .colab-df-spinner {\n",
              "    border: 2px solid var(--fill-color);\n",
              "    border-color: transparent;\n",
              "    border-bottom-color: var(--fill-color);\n",
              "    animation:\n",
              "      spin 1s steps(1) infinite;\n",
              "  }\n",
              "\n",
              "  @keyframes spin {\n",
              "    0% {\n",
              "      border-color: transparent;\n",
              "      border-bottom-color: var(--fill-color);\n",
              "      border-left-color: var(--fill-color);\n",
              "    }\n",
              "    20% {\n",
              "      border-color: transparent;\n",
              "      border-left-color: var(--fill-color);\n",
              "      border-top-color: var(--fill-color);\n",
              "    }\n",
              "    30% {\n",
              "      border-color: transparent;\n",
              "      border-left-color: var(--fill-color);\n",
              "      border-top-color: var(--fill-color);\n",
              "      border-right-color: var(--fill-color);\n",
              "    }\n",
              "    40% {\n",
              "      border-color: transparent;\n",
              "      border-right-color: var(--fill-color);\n",
              "      border-top-color: var(--fill-color);\n",
              "    }\n",
              "    60% {\n",
              "      border-color: transparent;\n",
              "      border-right-color: var(--fill-color);\n",
              "    }\n",
              "    80% {\n",
              "      border-color: transparent;\n",
              "      border-right-color: var(--fill-color);\n",
              "      border-bottom-color: var(--fill-color);\n",
              "    }\n",
              "    90% {\n",
              "      border-color: transparent;\n",
              "      border-bottom-color: var(--fill-color);\n",
              "    }\n",
              "  }\n",
              "</style>\n",
              "\n",
              "  <script>\n",
              "    async function quickchart(key) {\n",
              "      const quickchartButtonEl =\n",
              "        document.querySelector('#' + key + ' button');\n",
              "      quickchartButtonEl.disabled = true;  // To prevent multiple clicks.\n",
              "      quickchartButtonEl.classList.add('colab-df-spinner');\n",
              "      try {\n",
              "        const charts = await google.colab.kernel.invokeFunction(\n",
              "            'suggestCharts', [key], {});\n",
              "      } catch (error) {\n",
              "        console.error('Error during call to suggestCharts:', error);\n",
              "      }\n",
              "      quickchartButtonEl.classList.remove('colab-df-spinner');\n",
              "      quickchartButtonEl.classList.add('colab-df-quickchart-complete');\n",
              "    }\n",
              "    (() => {\n",
              "      let quickchartButtonEl =\n",
              "        document.querySelector('#df-129cd97c-2c24-44a6-a421-020801105d3e button');\n",
              "      quickchartButtonEl.style.display =\n",
              "        google.colab.kernel.accessAllowed ? 'block' : 'none';\n",
              "    })();\n",
              "  </script>\n",
              "</div>\n",
              "    </div>\n",
              "  </div>\n"
            ]
          },
          "metadata": {},
          "execution_count": 7
        }
      ]
    },
    {
      "cell_type": "code",
      "source": [
        "movies.describe(include='all')"
      ],
      "metadata": {
        "colab": {
          "base_uri": "https://localhost:8080/",
          "height": 174
        },
        "id": "FpNQacZpC2ty",
        "outputId": "7cc043c1-40b8-4d3f-a37b-c17cd46e1237"
      },
      "execution_count": 8,
      "outputs": [
        {
          "output_type": "execute_result",
          "data": {
            "text/plain": [
              "                           title genres\n",
              "count                      10329  10329\n",
              "unique                     10327    938\n",
              "top     War of the Worlds (2005)  Drama\n",
              "freq                           2   1385"
            ],
            "text/html": [
              "\n",
              "  <div id=\"df-30fad3f4-e2ad-434f-82ce-6573c50c55b3\" class=\"colab-df-container\">\n",
              "    <div>\n",
              "<style scoped>\n",
              "    .dataframe tbody tr th:only-of-type {\n",
              "        vertical-align: middle;\n",
              "    }\n",
              "\n",
              "    .dataframe tbody tr th {\n",
              "        vertical-align: top;\n",
              "    }\n",
              "\n",
              "    .dataframe thead th {\n",
              "        text-align: right;\n",
              "    }\n",
              "</style>\n",
              "<table border=\"1\" class=\"dataframe\">\n",
              "  <thead>\n",
              "    <tr style=\"text-align: right;\">\n",
              "      <th></th>\n",
              "      <th>title</th>\n",
              "      <th>genres</th>\n",
              "    </tr>\n",
              "  </thead>\n",
              "  <tbody>\n",
              "    <tr>\n",
              "      <th>count</th>\n",
              "      <td>10329</td>\n",
              "      <td>10329</td>\n",
              "    </tr>\n",
              "    <tr>\n",
              "      <th>unique</th>\n",
              "      <td>10327</td>\n",
              "      <td>938</td>\n",
              "    </tr>\n",
              "    <tr>\n",
              "      <th>top</th>\n",
              "      <td>War of the Worlds (2005)</td>\n",
              "      <td>Drama</td>\n",
              "    </tr>\n",
              "    <tr>\n",
              "      <th>freq</th>\n",
              "      <td>2</td>\n",
              "      <td>1385</td>\n",
              "    </tr>\n",
              "  </tbody>\n",
              "</table>\n",
              "</div>\n",
              "    <div class=\"colab-df-buttons\">\n",
              "\n",
              "  <div class=\"colab-df-container\">\n",
              "    <button class=\"colab-df-convert\" onclick=\"convertToInteractive('df-30fad3f4-e2ad-434f-82ce-6573c50c55b3')\"\n",
              "            title=\"Convert this dataframe to an interactive table.\"\n",
              "            style=\"display:none;\">\n",
              "\n",
              "  <svg xmlns=\"http://www.w3.org/2000/svg\" height=\"24px\" viewBox=\"0 -960 960 960\">\n",
              "    <path d=\"M120-120v-720h720v720H120Zm60-500h600v-160H180v160Zm220 220h160v-160H400v160Zm0 220h160v-160H400v160ZM180-400h160v-160H180v160Zm440 0h160v-160H620v160ZM180-180h160v-160H180v160Zm440 0h160v-160H620v160Z\"/>\n",
              "  </svg>\n",
              "    </button>\n",
              "\n",
              "  <style>\n",
              "    .colab-df-container {\n",
              "      display:flex;\n",
              "      gap: 12px;\n",
              "    }\n",
              "\n",
              "    .colab-df-convert {\n",
              "      background-color: #E8F0FE;\n",
              "      border: none;\n",
              "      border-radius: 50%;\n",
              "      cursor: pointer;\n",
              "      display: none;\n",
              "      fill: #1967D2;\n",
              "      height: 32px;\n",
              "      padding: 0 0 0 0;\n",
              "      width: 32px;\n",
              "    }\n",
              "\n",
              "    .colab-df-convert:hover {\n",
              "      background-color: #E2EBFA;\n",
              "      box-shadow: 0px 1px 2px rgba(60, 64, 67, 0.3), 0px 1px 3px 1px rgba(60, 64, 67, 0.15);\n",
              "      fill: #174EA6;\n",
              "    }\n",
              "\n",
              "    .colab-df-buttons div {\n",
              "      margin-bottom: 4px;\n",
              "    }\n",
              "\n",
              "    [theme=dark] .colab-df-convert {\n",
              "      background-color: #3B4455;\n",
              "      fill: #D2E3FC;\n",
              "    }\n",
              "\n",
              "    [theme=dark] .colab-df-convert:hover {\n",
              "      background-color: #434B5C;\n",
              "      box-shadow: 0px 1px 3px 1px rgba(0, 0, 0, 0.15);\n",
              "      filter: drop-shadow(0px 1px 2px rgba(0, 0, 0, 0.3));\n",
              "      fill: #FFFFFF;\n",
              "    }\n",
              "  </style>\n",
              "\n",
              "    <script>\n",
              "      const buttonEl =\n",
              "        document.querySelector('#df-30fad3f4-e2ad-434f-82ce-6573c50c55b3 button.colab-df-convert');\n",
              "      buttonEl.style.display =\n",
              "        google.colab.kernel.accessAllowed ? 'block' : 'none';\n",
              "\n",
              "      async function convertToInteractive(key) {\n",
              "        const element = document.querySelector('#df-30fad3f4-e2ad-434f-82ce-6573c50c55b3');\n",
              "        const dataTable =\n",
              "          await google.colab.kernel.invokeFunction('convertToInteractive',\n",
              "                                                    [key], {});\n",
              "        if (!dataTable) return;\n",
              "\n",
              "        const docLinkHtml = 'Like what you see? Visit the ' +\n",
              "          '<a target=\"_blank\" href=https://colab.research.google.com/notebooks/data_table.ipynb>data table notebook</a>'\n",
              "          + ' to learn more about interactive tables.';\n",
              "        element.innerHTML = '';\n",
              "        dataTable['output_type'] = 'display_data';\n",
              "        await google.colab.output.renderOutput(dataTable, element);\n",
              "        const docLink = document.createElement('div');\n",
              "        docLink.innerHTML = docLinkHtml;\n",
              "        element.appendChild(docLink);\n",
              "      }\n",
              "    </script>\n",
              "  </div>\n",
              "\n",
              "\n",
              "<div id=\"df-2c896bb6-9962-494f-aa86-127f20f44b64\">\n",
              "  <button class=\"colab-df-quickchart\" onclick=\"quickchart('df-2c896bb6-9962-494f-aa86-127f20f44b64')\"\n",
              "            title=\"Suggest charts.\"\n",
              "            style=\"display:none;\">\n",
              "\n",
              "<svg xmlns=\"http://www.w3.org/2000/svg\" height=\"24px\"viewBox=\"0 0 24 24\"\n",
              "     width=\"24px\">\n",
              "    <g>\n",
              "        <path d=\"M19 3H5c-1.1 0-2 .9-2 2v14c0 1.1.9 2 2 2h14c1.1 0 2-.9 2-2V5c0-1.1-.9-2-2-2zM9 17H7v-7h2v7zm4 0h-2V7h2v10zm4 0h-2v-4h2v4z\"/>\n",
              "    </g>\n",
              "</svg>\n",
              "  </button>\n",
              "\n",
              "<style>\n",
              "  .colab-df-quickchart {\n",
              "      --bg-color: #E8F0FE;\n",
              "      --fill-color: #1967D2;\n",
              "      --hover-bg-color: #E2EBFA;\n",
              "      --hover-fill-color: #174EA6;\n",
              "      --disabled-fill-color: #AAA;\n",
              "      --disabled-bg-color: #DDD;\n",
              "  }\n",
              "\n",
              "  [theme=dark] .colab-df-quickchart {\n",
              "      --bg-color: #3B4455;\n",
              "      --fill-color: #D2E3FC;\n",
              "      --hover-bg-color: #434B5C;\n",
              "      --hover-fill-color: #FFFFFF;\n",
              "      --disabled-bg-color: #3B4455;\n",
              "      --disabled-fill-color: #666;\n",
              "  }\n",
              "\n",
              "  .colab-df-quickchart {\n",
              "    background-color: var(--bg-color);\n",
              "    border: none;\n",
              "    border-radius: 50%;\n",
              "    cursor: pointer;\n",
              "    display: none;\n",
              "    fill: var(--fill-color);\n",
              "    height: 32px;\n",
              "    padding: 0;\n",
              "    width: 32px;\n",
              "  }\n",
              "\n",
              "  .colab-df-quickchart:hover {\n",
              "    background-color: var(--hover-bg-color);\n",
              "    box-shadow: 0 1px 2px rgba(60, 64, 67, 0.3), 0 1px 3px 1px rgba(60, 64, 67, 0.15);\n",
              "    fill: var(--button-hover-fill-color);\n",
              "  }\n",
              "\n",
              "  .colab-df-quickchart-complete:disabled,\n",
              "  .colab-df-quickchart-complete:disabled:hover {\n",
              "    background-color: var(--disabled-bg-color);\n",
              "    fill: var(--disabled-fill-color);\n",
              "    box-shadow: none;\n",
              "  }\n",
              "\n",
              "  .colab-df-spinner {\n",
              "    border: 2px solid var(--fill-color);\n",
              "    border-color: transparent;\n",
              "    border-bottom-color: var(--fill-color);\n",
              "    animation:\n",
              "      spin 1s steps(1) infinite;\n",
              "  }\n",
              "\n",
              "  @keyframes spin {\n",
              "    0% {\n",
              "      border-color: transparent;\n",
              "      border-bottom-color: var(--fill-color);\n",
              "      border-left-color: var(--fill-color);\n",
              "    }\n",
              "    20% {\n",
              "      border-color: transparent;\n",
              "      border-left-color: var(--fill-color);\n",
              "      border-top-color: var(--fill-color);\n",
              "    }\n",
              "    30% {\n",
              "      border-color: transparent;\n",
              "      border-left-color: var(--fill-color);\n",
              "      border-top-color: var(--fill-color);\n",
              "      border-right-color: var(--fill-color);\n",
              "    }\n",
              "    40% {\n",
              "      border-color: transparent;\n",
              "      border-right-color: var(--fill-color);\n",
              "      border-top-color: var(--fill-color);\n",
              "    }\n",
              "    60% {\n",
              "      border-color: transparent;\n",
              "      border-right-color: var(--fill-color);\n",
              "    }\n",
              "    80% {\n",
              "      border-color: transparent;\n",
              "      border-right-color: var(--fill-color);\n",
              "      border-bottom-color: var(--fill-color);\n",
              "    }\n",
              "    90% {\n",
              "      border-color: transparent;\n",
              "      border-bottom-color: var(--fill-color);\n",
              "    }\n",
              "  }\n",
              "</style>\n",
              "\n",
              "  <script>\n",
              "    async function quickchart(key) {\n",
              "      const quickchartButtonEl =\n",
              "        document.querySelector('#' + key + ' button');\n",
              "      quickchartButtonEl.disabled = true;  // To prevent multiple clicks.\n",
              "      quickchartButtonEl.classList.add('colab-df-spinner');\n",
              "      try {\n",
              "        const charts = await google.colab.kernel.invokeFunction(\n",
              "            'suggestCharts', [key], {});\n",
              "      } catch (error) {\n",
              "        console.error('Error during call to suggestCharts:', error);\n",
              "      }\n",
              "      quickchartButtonEl.classList.remove('colab-df-spinner');\n",
              "      quickchartButtonEl.classList.add('colab-df-quickchart-complete');\n",
              "    }\n",
              "    (() => {\n",
              "      let quickchartButtonEl =\n",
              "        document.querySelector('#df-2c896bb6-9962-494f-aa86-127f20f44b64 button');\n",
              "      quickchartButtonEl.style.display =\n",
              "        google.colab.kernel.accessAllowed ? 'block' : 'none';\n",
              "    })();\n",
              "  </script>\n",
              "</div>\n",
              "    </div>\n",
              "  </div>\n"
            ]
          },
          "metadata": {},
          "execution_count": 8
        }
      ]
    },
    {
      "cell_type": "code",
      "source": [
        "movies.duplicated().sum()"
      ],
      "metadata": {
        "colab": {
          "base_uri": "https://localhost:8080/"
        },
        "id": "7ekDpKCNFP6y",
        "outputId": "588922c3-a8dc-4b5f-ae32-d6b1678a061b"
      },
      "execution_count": 9,
      "outputs": [
        {
          "output_type": "execute_result",
          "data": {
            "text/plain": [
              "0"
            ]
          },
          "metadata": {},
          "execution_count": 9
        }
      ]
    },
    {
      "cell_type": "markdown",
      "source": [
        "#Text Pre-processing"
      ],
      "metadata": {
        "id": "Kq0Cp9qwcUJV"
      }
    },
    {
      "cell_type": "code",
      "source": [
        "# movies['title'] = movies['title'].str.extract('([a-zA-Z\\s]+)', expand=False)"
      ],
      "metadata": {
        "id": "4x08byfXN1Nl"
      },
      "execution_count": 10,
      "outputs": []
    },
    {
      "cell_type": "code",
      "source": [
        "def cleaning_text(msg):\n",
        "  stopword = stopwords.words('english')\n",
        "  #remove common words\n",
        "  clean_msg = [word for word in msg.split('|') if word not in stopword]\n",
        "  clean_msg = ' '.join(clean_msg)\n",
        "  return clean_msg"
      ],
      "metadata": {
        "id": "ed9EkFa1DQ3u"
      },
      "execution_count": 11,
      "outputs": []
    },
    {
      "cell_type": "code",
      "source": [
        "movies['genres'] = movies.genres.apply(cleaning_text)"
      ],
      "metadata": {
        "id": "6x8DViJkIbCu"
      },
      "execution_count": 12,
      "outputs": []
    },
    {
      "cell_type": "code",
      "source": [
        "movies.head()"
      ],
      "metadata": {
        "colab": {
          "base_uri": "https://localhost:8080/",
          "height": 206
        },
        "id": "qtcl2ybuIsAB",
        "outputId": "8bb2c68a-dd21-4a80-aba4-9404d600ec83"
      },
      "execution_count": 13,
      "outputs": [
        {
          "output_type": "execute_result",
          "data": {
            "text/plain": [
              "                                title  \\\n",
              "0                    Toy Story (1995)   \n",
              "1                      Jumanji (1995)   \n",
              "2             Grumpier Old Men (1995)   \n",
              "3            Waiting to Exhale (1995)   \n",
              "4  Father of the Bride Part II (1995)   \n",
              "\n",
              "                                        genres  \n",
              "0  Adventure Animation Children Comedy Fantasy  \n",
              "1                   Adventure Children Fantasy  \n",
              "2                               Comedy Romance  \n",
              "3                         Comedy Drama Romance  \n",
              "4                                       Comedy  "
            ],
            "text/html": [
              "\n",
              "  <div id=\"df-14c0b125-0def-40a3-bd05-9f53753a42fe\" class=\"colab-df-container\">\n",
              "    <div>\n",
              "<style scoped>\n",
              "    .dataframe tbody tr th:only-of-type {\n",
              "        vertical-align: middle;\n",
              "    }\n",
              "\n",
              "    .dataframe tbody tr th {\n",
              "        vertical-align: top;\n",
              "    }\n",
              "\n",
              "    .dataframe thead th {\n",
              "        text-align: right;\n",
              "    }\n",
              "</style>\n",
              "<table border=\"1\" class=\"dataframe\">\n",
              "  <thead>\n",
              "    <tr style=\"text-align: right;\">\n",
              "      <th></th>\n",
              "      <th>title</th>\n",
              "      <th>genres</th>\n",
              "    </tr>\n",
              "  </thead>\n",
              "  <tbody>\n",
              "    <tr>\n",
              "      <th>0</th>\n",
              "      <td>Toy Story (1995)</td>\n",
              "      <td>Adventure Animation Children Comedy Fantasy</td>\n",
              "    </tr>\n",
              "    <tr>\n",
              "      <th>1</th>\n",
              "      <td>Jumanji (1995)</td>\n",
              "      <td>Adventure Children Fantasy</td>\n",
              "    </tr>\n",
              "    <tr>\n",
              "      <th>2</th>\n",
              "      <td>Grumpier Old Men (1995)</td>\n",
              "      <td>Comedy Romance</td>\n",
              "    </tr>\n",
              "    <tr>\n",
              "      <th>3</th>\n",
              "      <td>Waiting to Exhale (1995)</td>\n",
              "      <td>Comedy Drama Romance</td>\n",
              "    </tr>\n",
              "    <tr>\n",
              "      <th>4</th>\n",
              "      <td>Father of the Bride Part II (1995)</td>\n",
              "      <td>Comedy</td>\n",
              "    </tr>\n",
              "  </tbody>\n",
              "</table>\n",
              "</div>\n",
              "    <div class=\"colab-df-buttons\">\n",
              "\n",
              "  <div class=\"colab-df-container\">\n",
              "    <button class=\"colab-df-convert\" onclick=\"convertToInteractive('df-14c0b125-0def-40a3-bd05-9f53753a42fe')\"\n",
              "            title=\"Convert this dataframe to an interactive table.\"\n",
              "            style=\"display:none;\">\n",
              "\n",
              "  <svg xmlns=\"http://www.w3.org/2000/svg\" height=\"24px\" viewBox=\"0 -960 960 960\">\n",
              "    <path d=\"M120-120v-720h720v720H120Zm60-500h600v-160H180v160Zm220 220h160v-160H400v160Zm0 220h160v-160H400v160ZM180-400h160v-160H180v160Zm440 0h160v-160H620v160ZM180-180h160v-160H180v160Zm440 0h160v-160H620v160Z\"/>\n",
              "  </svg>\n",
              "    </button>\n",
              "\n",
              "  <style>\n",
              "    .colab-df-container {\n",
              "      display:flex;\n",
              "      gap: 12px;\n",
              "    }\n",
              "\n",
              "    .colab-df-convert {\n",
              "      background-color: #E8F0FE;\n",
              "      border: none;\n",
              "      border-radius: 50%;\n",
              "      cursor: pointer;\n",
              "      display: none;\n",
              "      fill: #1967D2;\n",
              "      height: 32px;\n",
              "      padding: 0 0 0 0;\n",
              "      width: 32px;\n",
              "    }\n",
              "\n",
              "    .colab-df-convert:hover {\n",
              "      background-color: #E2EBFA;\n",
              "      box-shadow: 0px 1px 2px rgba(60, 64, 67, 0.3), 0px 1px 3px 1px rgba(60, 64, 67, 0.15);\n",
              "      fill: #174EA6;\n",
              "    }\n",
              "\n",
              "    .colab-df-buttons div {\n",
              "      margin-bottom: 4px;\n",
              "    }\n",
              "\n",
              "    [theme=dark] .colab-df-convert {\n",
              "      background-color: #3B4455;\n",
              "      fill: #D2E3FC;\n",
              "    }\n",
              "\n",
              "    [theme=dark] .colab-df-convert:hover {\n",
              "      background-color: #434B5C;\n",
              "      box-shadow: 0px 1px 3px 1px rgba(0, 0, 0, 0.15);\n",
              "      filter: drop-shadow(0px 1px 2px rgba(0, 0, 0, 0.3));\n",
              "      fill: #FFFFFF;\n",
              "    }\n",
              "  </style>\n",
              "\n",
              "    <script>\n",
              "      const buttonEl =\n",
              "        document.querySelector('#df-14c0b125-0def-40a3-bd05-9f53753a42fe button.colab-df-convert');\n",
              "      buttonEl.style.display =\n",
              "        google.colab.kernel.accessAllowed ? 'block' : 'none';\n",
              "\n",
              "      async function convertToInteractive(key) {\n",
              "        const element = document.querySelector('#df-14c0b125-0def-40a3-bd05-9f53753a42fe');\n",
              "        const dataTable =\n",
              "          await google.colab.kernel.invokeFunction('convertToInteractive',\n",
              "                                                    [key], {});\n",
              "        if (!dataTable) return;\n",
              "\n",
              "        const docLinkHtml = 'Like what you see? Visit the ' +\n",
              "          '<a target=\"_blank\" href=https://colab.research.google.com/notebooks/data_table.ipynb>data table notebook</a>'\n",
              "          + ' to learn more about interactive tables.';\n",
              "        element.innerHTML = '';\n",
              "        dataTable['output_type'] = 'display_data';\n",
              "        await google.colab.output.renderOutput(dataTable, element);\n",
              "        const docLink = document.createElement('div');\n",
              "        docLink.innerHTML = docLinkHtml;\n",
              "        element.appendChild(docLink);\n",
              "      }\n",
              "    </script>\n",
              "  </div>\n",
              "\n",
              "\n",
              "<div id=\"df-0d77ded0-6fa9-4ef8-aaae-e0e758217e2b\">\n",
              "  <button class=\"colab-df-quickchart\" onclick=\"quickchart('df-0d77ded0-6fa9-4ef8-aaae-e0e758217e2b')\"\n",
              "            title=\"Suggest charts.\"\n",
              "            style=\"display:none;\">\n",
              "\n",
              "<svg xmlns=\"http://www.w3.org/2000/svg\" height=\"24px\"viewBox=\"0 0 24 24\"\n",
              "     width=\"24px\">\n",
              "    <g>\n",
              "        <path d=\"M19 3H5c-1.1 0-2 .9-2 2v14c0 1.1.9 2 2 2h14c1.1 0 2-.9 2-2V5c0-1.1-.9-2-2-2zM9 17H7v-7h2v7zm4 0h-2V7h2v10zm4 0h-2v-4h2v4z\"/>\n",
              "    </g>\n",
              "</svg>\n",
              "  </button>\n",
              "\n",
              "<style>\n",
              "  .colab-df-quickchart {\n",
              "      --bg-color: #E8F0FE;\n",
              "      --fill-color: #1967D2;\n",
              "      --hover-bg-color: #E2EBFA;\n",
              "      --hover-fill-color: #174EA6;\n",
              "      --disabled-fill-color: #AAA;\n",
              "      --disabled-bg-color: #DDD;\n",
              "  }\n",
              "\n",
              "  [theme=dark] .colab-df-quickchart {\n",
              "      --bg-color: #3B4455;\n",
              "      --fill-color: #D2E3FC;\n",
              "      --hover-bg-color: #434B5C;\n",
              "      --hover-fill-color: #FFFFFF;\n",
              "      --disabled-bg-color: #3B4455;\n",
              "      --disabled-fill-color: #666;\n",
              "  }\n",
              "\n",
              "  .colab-df-quickchart {\n",
              "    background-color: var(--bg-color);\n",
              "    border: none;\n",
              "    border-radius: 50%;\n",
              "    cursor: pointer;\n",
              "    display: none;\n",
              "    fill: var(--fill-color);\n",
              "    height: 32px;\n",
              "    padding: 0;\n",
              "    width: 32px;\n",
              "  }\n",
              "\n",
              "  .colab-df-quickchart:hover {\n",
              "    background-color: var(--hover-bg-color);\n",
              "    box-shadow: 0 1px 2px rgba(60, 64, 67, 0.3), 0 1px 3px 1px rgba(60, 64, 67, 0.15);\n",
              "    fill: var(--button-hover-fill-color);\n",
              "  }\n",
              "\n",
              "  .colab-df-quickchart-complete:disabled,\n",
              "  .colab-df-quickchart-complete:disabled:hover {\n",
              "    background-color: var(--disabled-bg-color);\n",
              "    fill: var(--disabled-fill-color);\n",
              "    box-shadow: none;\n",
              "  }\n",
              "\n",
              "  .colab-df-spinner {\n",
              "    border: 2px solid var(--fill-color);\n",
              "    border-color: transparent;\n",
              "    border-bottom-color: var(--fill-color);\n",
              "    animation:\n",
              "      spin 1s steps(1) infinite;\n",
              "  }\n",
              "\n",
              "  @keyframes spin {\n",
              "    0% {\n",
              "      border-color: transparent;\n",
              "      border-bottom-color: var(--fill-color);\n",
              "      border-left-color: var(--fill-color);\n",
              "    }\n",
              "    20% {\n",
              "      border-color: transparent;\n",
              "      border-left-color: var(--fill-color);\n",
              "      border-top-color: var(--fill-color);\n",
              "    }\n",
              "    30% {\n",
              "      border-color: transparent;\n",
              "      border-left-color: var(--fill-color);\n",
              "      border-top-color: var(--fill-color);\n",
              "      border-right-color: var(--fill-color);\n",
              "    }\n",
              "    40% {\n",
              "      border-color: transparent;\n",
              "      border-right-color: var(--fill-color);\n",
              "      border-top-color: var(--fill-color);\n",
              "    }\n",
              "    60% {\n",
              "      border-color: transparent;\n",
              "      border-right-color: var(--fill-color);\n",
              "    }\n",
              "    80% {\n",
              "      border-color: transparent;\n",
              "      border-right-color: var(--fill-color);\n",
              "      border-bottom-color: var(--fill-color);\n",
              "    }\n",
              "    90% {\n",
              "      border-color: transparent;\n",
              "      border-bottom-color: var(--fill-color);\n",
              "    }\n",
              "  }\n",
              "</style>\n",
              "\n",
              "  <script>\n",
              "    async function quickchart(key) {\n",
              "      const quickchartButtonEl =\n",
              "        document.querySelector('#' + key + ' button');\n",
              "      quickchartButtonEl.disabled = true;  // To prevent multiple clicks.\n",
              "      quickchartButtonEl.classList.add('colab-df-spinner');\n",
              "      try {\n",
              "        const charts = await google.colab.kernel.invokeFunction(\n",
              "            'suggestCharts', [key], {});\n",
              "      } catch (error) {\n",
              "        console.error('Error during call to suggestCharts:', error);\n",
              "      }\n",
              "      quickchartButtonEl.classList.remove('colab-df-spinner');\n",
              "      quickchartButtonEl.classList.add('colab-df-quickchart-complete');\n",
              "    }\n",
              "    (() => {\n",
              "      let quickchartButtonEl =\n",
              "        document.querySelector('#df-0d77ded0-6fa9-4ef8-aaae-e0e758217e2b button');\n",
              "      quickchartButtonEl.style.display =\n",
              "        google.colab.kernel.accessAllowed ? 'block' : 'none';\n",
              "    })();\n",
              "  </script>\n",
              "</div>\n",
              "    </div>\n",
              "  </div>\n"
            ]
          },
          "metadata": {},
          "execution_count": 13
        }
      ]
    },
    {
      "cell_type": "code",
      "source": [
        "movies.shape"
      ],
      "metadata": {
        "colab": {
          "base_uri": "https://localhost:8080/"
        },
        "id": "zkjl9JGptmeU",
        "outputId": "95374f17-93ee-4944-f26e-e9129b0dff53"
      },
      "execution_count": 14,
      "outputs": [
        {
          "output_type": "execute_result",
          "data": {
            "text/plain": [
              "(10329, 2)"
            ]
          },
          "metadata": {},
          "execution_count": 14
        }
      ]
    },
    {
      "cell_type": "code",
      "source": [
        "movies.duplicated().sum()"
      ],
      "metadata": {
        "colab": {
          "base_uri": "https://localhost:8080/"
        },
        "id": "AVkqdT1mTKXf",
        "outputId": "89e804ac-21ba-4670-e11b-dd0984d6cb44"
      },
      "execution_count": 15,
      "outputs": [
        {
          "output_type": "execute_result",
          "data": {
            "text/plain": [
              "0"
            ]
          },
          "metadata": {},
          "execution_count": 15
        }
      ]
    },
    {
      "cell_type": "code",
      "source": [
        "movies.drop_duplicates(inplace=True)"
      ],
      "metadata": {
        "id": "fQ9tGy8ZTPWI"
      },
      "execution_count": 16,
      "outputs": []
    },
    {
      "cell_type": "code",
      "source": [
        "movies.duplicated().sum()"
      ],
      "metadata": {
        "colab": {
          "base_uri": "https://localhost:8080/"
        },
        "id": "25-nWxTbTWcW",
        "outputId": "d367a374-d5f5-4227-9ad6-bbdb967be286"
      },
      "execution_count": 17,
      "outputs": [
        {
          "output_type": "execute_result",
          "data": {
            "text/plain": [
              "0"
            ]
          },
          "metadata": {},
          "execution_count": 17
        }
      ]
    },
    {
      "cell_type": "code",
      "source": [
        "# combining all selected features\n",
        "feutre = movies['genres']+' '+movies['title']\n",
        "# feutre = movies['genres']"
      ],
      "metadata": {
        "id": "pRhBJWbeI2Wm"
      },
      "execution_count": 18,
      "outputs": []
    },
    {
      "cell_type": "code",
      "source": [
        "feutre"
      ],
      "metadata": {
        "colab": {
          "base_uri": "https://localhost:8080/"
        },
        "id": "x4E61sGI4xSz",
        "outputId": "81a759ef-d4af-4d95-ff89-2eec116e7a41"
      },
      "execution_count": 19,
      "outputs": [
        {
          "output_type": "execute_result",
          "data": {
            "text/plain": [
              "0        Adventure Animation Children Comedy Fantasy To...\n",
              "1                Adventure Children Fantasy Jumanji (1995)\n",
              "2                   Comedy Romance Grumpier Old Men (1995)\n",
              "3            Comedy Drama Romance Waiting to Exhale (1995)\n",
              "4                Comedy Father of the Bride Part II (1995)\n",
              "                               ...                        \n",
              "10324    Animation Children Comedy Cosmic Scrat-tastrop...\n",
              "10325                    Comedy Le Grand Restaurant (1966)\n",
              "10326                Comedy A Very Murray Christmas (2015)\n",
              "10327                           Drama The Big Short (2015)\n",
              "10328    (no genres listed) Marco Polo: One Hundred Eye...\n",
              "Length: 10329, dtype: object"
            ]
          },
          "metadata": {},
          "execution_count": 19
        }
      ]
    },
    {
      "cell_type": "markdown",
      "source": [
        "#Vectorization/ bag-of-words/Feature Extraction"
      ],
      "metadata": {
        "id": "k0hnEE31crTH"
      }
    },
    {
      "cell_type": "code",
      "source": [
        "vect = CountVectorizer()\n",
        "vect_metric = vect.fit_transform(feutre)\n",
        "vect_metric.toarray()"
      ],
      "metadata": {
        "colab": {
          "base_uri": "https://localhost:8080/"
        },
        "id": "nWoz1QgWL7nZ",
        "outputId": "ec18be82-dec5-4e8b-fa17-e0fbd5c2940e"
      },
      "execution_count": 20,
      "outputs": [
        {
          "output_type": "execute_result",
          "data": {
            "text/plain": [
              "array([[0, 0, 0, ..., 0, 0, 0],\n",
              "       [0, 0, 0, ..., 0, 0, 0],\n",
              "       [0, 0, 0, ..., 0, 0, 0],\n",
              "       ...,\n",
              "       [0, 0, 0, ..., 0, 0, 0],\n",
              "       [0, 0, 0, ..., 0, 0, 0],\n",
              "       [0, 0, 0, ..., 0, 0, 0]])"
            ]
          },
          "metadata": {},
          "execution_count": 20
        }
      ]
    },
    {
      "cell_type": "code",
      "source": [
        "from sklearn.feature_extraction.text import TfidfTransformer\n",
        "tfidf = TfidfTransformer()\n",
        "tfidf.fit(vect_metric)\n",
        "tfidf_metric = tfidf.transform(vect_metric)\n",
        "tfidf_metric.toarray()"
      ],
      "metadata": {
        "colab": {
          "base_uri": "https://localhost:8080/"
        },
        "id": "8ZWNoy2Xh2Q0",
        "outputId": "101dad26-f3f0-43ac-df1c-a2cdde92fd6f"
      },
      "execution_count": 21,
      "outputs": [
        {
          "output_type": "execute_result",
          "data": {
            "text/plain": [
              "array([[0., 0., 0., ..., 0., 0., 0.],\n",
              "       [0., 0., 0., ..., 0., 0., 0.],\n",
              "       [0., 0., 0., ..., 0., 0., 0.],\n",
              "       ...,\n",
              "       [0., 0., 0., ..., 0., 0., 0.],\n",
              "       [0., 0., 0., ..., 0., 0., 0.],\n",
              "       [0., 0., 0., ..., 0., 0., 0.]])"
            ]
          },
          "metadata": {},
          "execution_count": 21
        }
      ]
    },
    {
      "cell_type": "markdown",
      "source": [
        "#Consine Similarity:\n",
        "Cosine similarity measures the similarity between two vectors of an inner product space. It is measured by the cosine of the angle between two vectors and determines whether two vectors are pointing in roughly the same direction.\n",
        "![download (2).png](data:image/png;base64,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)"
      ],
      "metadata": {
        "id": "ZAHiSL_sdZ2O"
      }
    },
    {
      "cell_type": "code",
      "source": [
        "cosin_sim_mat = cosine_similarity(tfidf_metric)\n",
        "cosin_sim_mat"
      ],
      "metadata": {
        "colab": {
          "base_uri": "https://localhost:8080/"
        },
        "id": "zrJ5gsQXOD19",
        "outputId": "1fc3b992-e391-41bc-e59f-5e41872928cf"
      },
      "execution_count": 22,
      "outputs": [
        {
          "output_type": "execute_result",
          "data": {
            "text/plain": [
              "array([[1.        , 0.35757551, 0.12761652, ..., 0.02041226, 0.        ,\n",
              "        0.        ],\n",
              "       [0.35757551, 1.        , 0.11887692, ..., 0.        , 0.        ,\n",
              "        0.        ],\n",
              "       [0.12761652, 0.11887692, 1.        , ..., 0.01918499, 0.        ,\n",
              "        0.        ],\n",
              "       ...,\n",
              "       [0.02041226, 0.        , 0.01918499, ..., 1.        , 0.16400297,\n",
              "        0.08303514],\n",
              "       [0.        , 0.        , 0.        , ..., 0.16400297, 1.        ,\n",
              "        0.10730401],\n",
              "       [0.        , 0.        , 0.        , ..., 0.08303514, 0.10730401,\n",
              "        1.        ]])"
            ]
          },
          "metadata": {},
          "execution_count": 22
        }
      ]
    },
    {
      "cell_type": "code",
      "source": [
        "indices = pd.Series(movies.index, index=movies['title']).drop_duplicates()\n",
        "indices"
      ],
      "metadata": {
        "colab": {
          "base_uri": "https://localhost:8080/"
        },
        "id": "VxvsG4AHOaPu",
        "outputId": "696730a1-a292-49f2-abf0-56150bce377c"
      },
      "execution_count": 23,
      "outputs": [
        {
          "output_type": "execute_result",
          "data": {
            "text/plain": [
              "title\n",
              "Toy Story (1995)                           0\n",
              "Jumanji (1995)                             1\n",
              "Grumpier Old Men (1995)                    2\n",
              "Waiting to Exhale (1995)                   3\n",
              "Father of the Bride Part II (1995)         4\n",
              "                                       ...  \n",
              "Cosmic Scrat-tastrophe (2015)          10324\n",
              "Le Grand Restaurant (1966)             10325\n",
              "A Very Murray Christmas (2015)         10326\n",
              "The Big Short (2015)                   10327\n",
              "Marco Polo: One Hundred Eyes (2015)    10328\n",
              "Length: 10329, dtype: int64"
            ]
          },
          "metadata": {},
          "execution_count": 23
        }
      ]
    },
    {
      "cell_type": "code",
      "source": [
        "indices.duplicated().sum()"
      ],
      "metadata": {
        "colab": {
          "base_uri": "https://localhost:8080/"
        },
        "id": "0QUjJ48k5WrS",
        "outputId": "251b96ed-caf7-449c-e954-b1be77cd85fb"
      },
      "execution_count": 24,
      "outputs": [
        {
          "output_type": "execute_result",
          "data": {
            "text/plain": [
              "0"
            ]
          },
          "metadata": {},
          "execution_count": 24
        }
      ]
    },
    {
      "cell_type": "code",
      "source": [
        "indices.index.duplicated().sum()"
      ],
      "metadata": {
        "colab": {
          "base_uri": "https://localhost:8080/"
        },
        "id": "verG-T0PV1St",
        "outputId": "7c266993-40c9-4645-9ded-e38c861b4d74"
      },
      "execution_count": 25,
      "outputs": [
        {
          "output_type": "execute_result",
          "data": {
            "text/plain": [
              "2"
            ]
          },
          "metadata": {},
          "execution_count": 25
        }
      ]
    },
    {
      "cell_type": "code",
      "source": [
        "indices"
      ],
      "metadata": {
        "colab": {
          "base_uri": "https://localhost:8080/"
        },
        "id": "Zn9WDzeA0XLA",
        "outputId": "13b2b182-a309-4c84-fba7-da9a0a60b06e"
      },
      "execution_count": 26,
      "outputs": [
        {
          "output_type": "execute_result",
          "data": {
            "text/plain": [
              "title\n",
              "Toy Story (1995)                           0\n",
              "Jumanji (1995)                             1\n",
              "Grumpier Old Men (1995)                    2\n",
              "Waiting to Exhale (1995)                   3\n",
              "Father of the Bride Part II (1995)         4\n",
              "                                       ...  \n",
              "Cosmic Scrat-tastrophe (2015)          10324\n",
              "Le Grand Restaurant (1966)             10325\n",
              "A Very Murray Christmas (2015)         10326\n",
              "The Big Short (2015)                   10327\n",
              "Marco Polo: One Hundred Eyes (2015)    10328\n",
              "Length: 10329, dtype: int64"
            ]
          },
          "metadata": {},
          "execution_count": 26
        }
      ]
    },
    {
      "cell_type": "code",
      "source": [
        "indices['Jumanji (1995)']"
      ],
      "metadata": {
        "colab": {
          "base_uri": "https://localhost:8080/"
        },
        "id": "SsAxtLigUYps",
        "outputId": "65367f25-af4a-46ae-ab57-4593c403e875"
      },
      "execution_count": 27,
      "outputs": [
        {
          "output_type": "execute_result",
          "data": {
            "text/plain": [
              "1"
            ]
          },
          "metadata": {},
          "execution_count": 27
        }
      ]
    },
    {
      "cell_type": "markdown",
      "source": [
        "#Create helping function which recomadation similer movies"
      ],
      "metadata": {
        "id": "4IPP_ww42P4U"
      }
    },
    {
      "cell_type": "code",
      "source": [
        "# function that takes in movies title as input and outputs most similar\n",
        "def get_recommendation(title, cosin_sim_mat=cosin_sim_mat):\n",
        "  # get the index of the movie that matches the title\n",
        "  idx = indices[title]\n",
        "\n",
        "  #get the pairwise similarity scores of all movies with that movie\n",
        "  sim_score = list(enumerate(cosin_sim_mat[idx]))\n",
        "\n",
        "  #Sort the movies based on the similarity score\n",
        "  sim_score = sorted(sim_score, key=lambda x:x[1], reverse=True)\n",
        "\n",
        "\n",
        "  # get the scores of the 5 most similar movies\n",
        "  sim_score = sim_score[1:6]\n",
        "\n",
        "  # get the movie indices\n",
        "  movie_indices = [i[0] for i in sim_score]\n",
        "\n",
        "  # Return the top 10 most similar movies\n",
        "  return movies['title'].iloc[movie_indices]\n",
        "\n",
        "\n",
        "get_recommendation('Jumanji (1995)')"
      ],
      "metadata": {
        "colab": {
          "base_uri": "https://localhost:8080/"
        },
        "id": "dmnWY_PlO6qP",
        "outputId": "a53ffd2e-4210-4c65-a1c1-69670ae1eed1"
      },
      "execution_count": 31,
      "outputs": [
        {
          "output_type": "execute_result",
          "data": {
            "text/plain": [
              "0                Toy Story (1995)\n",
              "6471    Magic in the Water (1995)\n",
              "1662             Tall Tale (1995)\n",
              "214                  Gordy (1995)\n",
              "134                 Casper (1995)\n",
              "Name: title, dtype: object"
            ]
          },
          "metadata": {},
          "execution_count": 31
        }
      ]
    },
    {
      "cell_type": "code",
      "source": [
        "get_recommendation('Gordy (1995)')"
      ],
      "metadata": {
        "colab": {
          "base_uri": "https://localhost:8080/"
        },
        "id": "JNuIP5IvvFJa",
        "outputId": "0639a05c-b9ff-4db1-85d5-159c2969f2fd"
      },
      "execution_count": 32,
      "outputs": [
        {
          "output_type": "execute_result",
          "data": {
            "text/plain": [
              "1                  Jumanji (1995)\n",
              "0                Toy Story (1995)\n",
              "6471    Magic in the Water (1995)\n",
              "1662             Tall Tale (1995)\n",
              "50          Big Green, The (1995)\n",
              "Name: title, dtype: object"
            ]
          },
          "metadata": {},
          "execution_count": 32
        }
      ]
    },
    {
      "cell_type": "code",
      "source": [],
      "metadata": {
        "id": "6buFepBizAWH"
      },
      "execution_count": null,
      "outputs": []
    }
  ]
}